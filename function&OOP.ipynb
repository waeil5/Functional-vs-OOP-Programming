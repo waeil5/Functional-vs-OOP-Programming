{
  "nbformat": 4,
  "nbformat_minor": 0,
  "metadata": {
    "colab": {
      "provenance": [],
      "authorship_tag": "ABX9TyMaTtqmIJ/00LEAHlHb55U4",
      "include_colab_link": true
    },
    "kernelspec": {
      "name": "python3",
      "display_name": "Python 3"
    },
    "language_info": {
      "name": "python"
    }
  },
  "cells": [
    {
      "cell_type": "markdown",
      "metadata": {
        "id": "view-in-github",
        "colab_type": "text"
      },
      "source": [
        "<a href=\"https://colab.research.google.com/github/waeil5/Functional-vs-OOP-Programming/blob/main/function%26OOP.ipynb\" target=\"_parent\"><img src=\"https://colab.research.google.com/assets/colab-badge.svg\" alt=\"Open In Colab\"/></a>"
      ]
    },
    {
      "cell_type": "code",
      "execution_count": null,
      "metadata": {
        "id": "yROiD8R2RIHq"
      },
      "outputs": [],
      "source": [
        "class domath:\n",
        "    def __init__(self,val1,val2):\n",
        "        self.val1=val1\n",
        "        self.val2 = val2\n",
        "\n",
        "    def add(self):\n",
        "        return self.val1 +self.val2\n",
        "    def mult(self):\n",
        "        return self.val1*self.val2\n",
        "    def div(self):\n",
        "        return self.val1/self.val2\n",
        "    def sub(self):\n",
        "        return self.val1-self.val2\n",
        "        \n",
        "x=domath(12,3)\n",
        "\n",
        "print(x.add())\n",
        "print(x.mult())\n",
        "print(x.sub())\n",
        "print(x.div())\n",
        "        \n"
      ]
    }
  ]
}